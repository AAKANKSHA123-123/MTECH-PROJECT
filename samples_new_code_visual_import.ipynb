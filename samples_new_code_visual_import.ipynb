{
  "nbformat": 4,
  "nbformat_minor": 0,
  "metadata": {
    "colab": {
      "name": "samples_new_code_visual_import.ipynb",
      "provenance": [],
      "collapsed_sections": [],
      "include_colab_link": true
    },
    "kernelspec": {
      "name": "python3",
      "display_name": "Python 3"
    },
    "language_info": {
      "name": "python"
    },
    "accelerator": "GPU"
  },
  "cells": [
    {
      "cell_type": "markdown",
      "metadata": {
        "id": "view-in-github",
        "colab_type": "text"
      },
      "source": [
        "<a href=\"https://colab.research.google.com/github/AAKANKSHA123-123/MTECH-PROJECT/blob/main/samples_new_code_visual_import.ipynb\" target=\"_parent\"><img src=\"https://colab.research.google.com/assets/colab-badge.svg\" alt=\"Open In Colab\"/></a>"
      ]
    },
    {
      "cell_type": "code",
      "metadata": {
        "colab": {
          "base_uri": "https://localhost:8080/"
        },
        "id": "mA_xQ5F-HvaM",
        "outputId": "4515c3f0-ec0e-4e1d-f3c3-7e63c04cf2d3"
      },
      "source": [
        "!pip install ipynb"
      ],
      "execution_count": 17,
      "outputs": [
        {
          "output_type": "stream",
          "name": "stdout",
          "text": [
            "Requirement already satisfied: ipynb in /usr/local/lib/python3.7/dist-packages (0.5.1)\n"
          ]
        }
      ]
    },
    {
      "cell_type": "code",
      "metadata": {
        "colab": {
          "base_uri": "https://localhost:8080/"
        },
        "id": "BrFXn89tN09w",
        "outputId": "ce20d09b-fe4a-4325-eafd-eec1567c852f"
      },
      "source": [
        "%cd /content/drive/MyDrive/Colab Notebooks"
      ],
      "execution_count": 18,
      "outputs": [
        {
          "output_type": "stream",
          "name": "stdout",
          "text": [
            "[Errno 2] No such file or directory: '/content/drive/MyDrive/Colab Notebooks'\n",
            "/content\n"
          ]
        }
      ]
    },
    {
      "cell_type": "code",
      "metadata": {
        "colab": {
          "base_uri": "https://localhost:8080/"
        },
        "id": "cGpYo_6w5rz1",
        "outputId": "12d22c2f-0b1d-4e8f-df03-d2a07a3c6c93"
      },
      "source": [
        "!pip install import-ipynb\n",
        "import import_ipynb"
      ],
      "execution_count": 19,
      "outputs": [
        {
          "output_type": "stream",
          "name": "stdout",
          "text": [
            "Requirement already satisfied: import-ipynb in /usr/local/lib/python3.7/dist-packages (0.1.3)\n"
          ]
        }
      ]
    },
    {
      "cell_type": "code",
      "metadata": {
        "id": "rte4EaYr9aRh"
      },
      "source": [
        "from pydrive.auth import GoogleAuth\n",
        "from pydrive.drive import GoogleDrive\n",
        "from google.colab import auth\n",
        "from oauth2client.client import GoogleCredentials\n",
        "\n",
        "auth.authenticate_user()\n",
        "gauth = GoogleAuth()\n",
        "gauth.credentials = GoogleCredentials.get_application_default()\n",
        "drive = GoogleDrive(gauth)"
      ],
      "execution_count": 20,
      "outputs": []
    },
    {
      "cell_type": "code",
      "metadata": {
        "colab": {
          "base_uri": "https://localhost:8080/"
        },
        "id": "U5KvECyNYc9o",
        "outputId": "89f9645f-5eb3-431b-e43d-b867b46e509b"
      },
      "source": [
        "%cp /content/drive/MyDrive/newresultsdata.csv\n",
        "%cp /content/drive/MyDrive/Colab \\ Notebooks/Newcodevisualvgg16.ipynb"
      ],
      "execution_count": 21,
      "outputs": [
        {
          "output_type": "stream",
          "name": "stdout",
          "text": [
            "cp: missing destination file operand after '/content/drive/MyDrive/newresultsdata.csv'\n",
            "Try 'cp --help' for more information.\n",
            "cp: cannot stat '/content/drive/MyDrive/Colab': No such file or directory\n"
          ]
        }
      ]
    },
    {
      "cell_type": "code",
      "metadata": {
        "colab": {
          "base_uri": "https://localhost:8080/"
        },
        "id": "fnDxHbBkdkyM",
        "outputId": "2147f686-b69e-4d51-cf86-531d0c7d45ca"
      },
      "source": [
        "!python /content/drive/MyDrive/Newcodevisualvgg16.ipynb"
      ],
      "execution_count": 22,
      "outputs": [
        {
          "output_type": "stream",
          "name": "stdout",
          "text": [
            "python3: can't open file '/content/drive/MyDrive/Newcodevisualvgg16.ipynb': [Errno 2] No such file or directory\n"
          ]
        }
      ]
    },
    {
      "cell_type": "code",
      "metadata": {
        "id": "leaQvCFPJuN2"
      },
      "source": [
        "import numpy as np\n",
        "import tensorflow as tf\n",
        "import random as rn\n",
        "\n"
      ],
      "execution_count": 23,
      "outputs": []
    },
    {
      "cell_type": "code",
      "metadata": {
        "id": "gl4a6mMuJqbP"
      },
      "source": [
        "##fixing numpy RS\n",
        "np.random.seed(42)\n",
        "\n",
        "##fixing tensorflow RS\n",
        "tf.random.set_seed(32)\n",
        "\n",
        "##python RS\n",
        "rn.seed(12)"
      ],
      "execution_count": 24,
      "outputs": []
    },
    {
      "cell_type": "code",
      "metadata": {
        "colab": {
          "base_uri": "https://localhost:8080/",
          "height": 69
        },
        "id": "GCn5-EK-Kzq9",
        "outputId": "5c15929e-f6ab-4fd7-d34a-ac4554ed8331"
      },
      "source": [
        "'''import h5py\n",
        "filename = \"/content/drive/MyDrive/newresults/dataset_train.hdf5\"\n",
        "\n",
        "with h5py.File(filename, \"r\") as f:\n",
        "    # List all groups\n",
        "    print(\"Keys: %s\" % f.keys())\n",
        "    a_group_key = list(f.keys())[0]\n",
        "\n",
        "    # Get the data\n",
        "    data = list(f[a_group_key])'''"
      ],
      "execution_count": 25,
      "outputs": [
        {
          "output_type": "execute_result",
          "data": {
            "application/vnd.google.colaboratory.intrinsic+json": {
              "type": "string"
            },
            "text/plain": [
              "'import h5py\\nfilename = \"/content/drive/MyDrive/newresults/dataset_train.hdf5\"\\n\\nwith h5py.File(filename, \"r\") as f:\\n    # List all groups\\n    print(\"Keys: %s\" % f.keys())\\n    a_group_key = list(f.keys())[0]\\n\\n    # Get the data\\n    data = list(f[a_group_key])'"
            ]
          },
          "metadata": {},
          "execution_count": 25
        }
      ]
    },
    {
      "cell_type": "code",
      "metadata": {
        "colab": {
          "base_uri": "https://localhost:8080/"
        },
        "id": "-s7OR9KGVb25",
        "outputId": "345ae154-0775-4339-8299-b9fdb740b782"
      },
      "source": [
        "!pip install tensorflow-io"
      ],
      "execution_count": 26,
      "outputs": [
        {
          "output_type": "stream",
          "name": "stdout",
          "text": [
            "Requirement already satisfied: tensorflow-io in /usr/local/lib/python3.7/dist-packages (0.21.0)\n",
            "Requirement already satisfied: tensorflow<2.7.0,>=2.6.0 in /usr/local/lib/python3.7/dist-packages (from tensorflow-io) (2.6.0)\n",
            "Requirement already satisfied: tensorflow-io-gcs-filesystem==0.21.0 in /usr/local/lib/python3.7/dist-packages (from tensorflow-io) (0.21.0)\n",
            "Requirement already satisfied: grpcio<2.0,>=1.37.0 in /usr/local/lib/python3.7/dist-packages (from tensorflow<2.7.0,>=2.6.0->tensorflow-io) (1.41.0)\n",
            "Requirement already satisfied: keras~=2.6 in /usr/local/lib/python3.7/dist-packages (from tensorflow<2.7.0,>=2.6.0->tensorflow-io) (2.6.0)\n",
            "Requirement already satisfied: absl-py~=0.10 in /usr/local/lib/python3.7/dist-packages (from tensorflow<2.7.0,>=2.6.0->tensorflow-io) (0.12.0)\n",
            "Requirement already satisfied: tensorboard~=2.6 in /usr/local/lib/python3.7/dist-packages (from tensorflow<2.7.0,>=2.6.0->tensorflow-io) (2.6.0)\n",
            "Requirement already satisfied: protobuf>=3.9.2 in /usr/local/lib/python3.7/dist-packages (from tensorflow<2.7.0,>=2.6.0->tensorflow-io) (3.17.3)\n",
            "Requirement already satisfied: typing-extensions~=3.7.4 in /usr/local/lib/python3.7/dist-packages (from tensorflow<2.7.0,>=2.6.0->tensorflow-io) (3.7.4.3)\n",
            "Requirement already satisfied: opt-einsum~=3.3.0 in /usr/local/lib/python3.7/dist-packages (from tensorflow<2.7.0,>=2.6.0->tensorflow-io) (3.3.0)\n",
            "Requirement already satisfied: termcolor~=1.1.0 in /usr/local/lib/python3.7/dist-packages (from tensorflow<2.7.0,>=2.6.0->tensorflow-io) (1.1.0)\n",
            "Requirement already satisfied: flatbuffers~=1.12.0 in /usr/local/lib/python3.7/dist-packages (from tensorflow<2.7.0,>=2.6.0->tensorflow-io) (1.12)\n",
            "Requirement already satisfied: astunparse~=1.6.3 in /usr/local/lib/python3.7/dist-packages (from tensorflow<2.7.0,>=2.6.0->tensorflow-io) (1.6.3)\n",
            "Requirement already satisfied: gast==0.4.0 in /usr/local/lib/python3.7/dist-packages (from tensorflow<2.7.0,>=2.6.0->tensorflow-io) (0.4.0)\n",
            "Requirement already satisfied: keras-preprocessing~=1.1.2 in /usr/local/lib/python3.7/dist-packages (from tensorflow<2.7.0,>=2.6.0->tensorflow-io) (1.1.2)\n",
            "Requirement already satisfied: tensorflow-estimator~=2.6 in /usr/local/lib/python3.7/dist-packages (from tensorflow<2.7.0,>=2.6.0->tensorflow-io) (2.6.0)\n",
            "Requirement already satisfied: wheel~=0.35 in /usr/local/lib/python3.7/dist-packages (from tensorflow<2.7.0,>=2.6.0->tensorflow-io) (0.37.0)\n",
            "Requirement already satisfied: wrapt~=1.12.1 in /usr/local/lib/python3.7/dist-packages (from tensorflow<2.7.0,>=2.6.0->tensorflow-io) (1.12.1)\n",
            "Requirement already satisfied: google-pasta~=0.2 in /usr/local/lib/python3.7/dist-packages (from tensorflow<2.7.0,>=2.6.0->tensorflow-io) (0.2.0)\n",
            "Requirement already satisfied: clang~=5.0 in /usr/local/lib/python3.7/dist-packages (from tensorflow<2.7.0,>=2.6.0->tensorflow-io) (5.0)\n",
            "Requirement already satisfied: numpy~=1.19.2 in /usr/local/lib/python3.7/dist-packages (from tensorflow<2.7.0,>=2.6.0->tensorflow-io) (1.19.5)\n",
            "Requirement already satisfied: h5py~=3.1.0 in /usr/local/lib/python3.7/dist-packages (from tensorflow<2.7.0,>=2.6.0->tensorflow-io) (3.1.0)\n",
            "Requirement already satisfied: six~=1.15.0 in /usr/local/lib/python3.7/dist-packages (from tensorflow<2.7.0,>=2.6.0->tensorflow-io) (1.15.0)\n",
            "Requirement already satisfied: cached-property in /usr/local/lib/python3.7/dist-packages (from h5py~=3.1.0->tensorflow<2.7.0,>=2.6.0->tensorflow-io) (1.5.2)\n",
            "Requirement already satisfied: setuptools>=41.0.0 in /usr/local/lib/python3.7/dist-packages (from tensorboard~=2.6->tensorflow<2.7.0,>=2.6.0->tensorflow-io) (57.4.0)\n",
            "Requirement already satisfied: google-auth<2,>=1.6.3 in /usr/local/lib/python3.7/dist-packages (from tensorboard~=2.6->tensorflow<2.7.0,>=2.6.0->tensorflow-io) (1.35.0)\n",
            "Requirement already satisfied: markdown>=2.6.8 in /usr/local/lib/python3.7/dist-packages (from tensorboard~=2.6->tensorflow<2.7.0,>=2.6.0->tensorflow-io) (3.3.4)\n",
            "Requirement already satisfied: google-auth-oauthlib<0.5,>=0.4.1 in /usr/local/lib/python3.7/dist-packages (from tensorboard~=2.6->tensorflow<2.7.0,>=2.6.0->tensorflow-io) (0.4.6)\n",
            "Requirement already satisfied: tensorboard-plugin-wit>=1.6.0 in /usr/local/lib/python3.7/dist-packages (from tensorboard~=2.6->tensorflow<2.7.0,>=2.6.0->tensorflow-io) (1.8.0)\n",
            "Requirement already satisfied: werkzeug>=0.11.15 in /usr/local/lib/python3.7/dist-packages (from tensorboard~=2.6->tensorflow<2.7.0,>=2.6.0->tensorflow-io) (1.0.1)\n",
            "Requirement already satisfied: tensorboard-data-server<0.7.0,>=0.6.0 in /usr/local/lib/python3.7/dist-packages (from tensorboard~=2.6->tensorflow<2.7.0,>=2.6.0->tensorflow-io) (0.6.1)\n",
            "Requirement already satisfied: requests<3,>=2.21.0 in /usr/local/lib/python3.7/dist-packages (from tensorboard~=2.6->tensorflow<2.7.0,>=2.6.0->tensorflow-io) (2.23.0)\n",
            "Requirement already satisfied: cachetools<5.0,>=2.0.0 in /usr/local/lib/python3.7/dist-packages (from google-auth<2,>=1.6.3->tensorboard~=2.6->tensorflow<2.7.0,>=2.6.0->tensorflow-io) (4.2.4)\n",
            "Requirement already satisfied: pyasn1-modules>=0.2.1 in /usr/local/lib/python3.7/dist-packages (from google-auth<2,>=1.6.3->tensorboard~=2.6->tensorflow<2.7.0,>=2.6.0->tensorflow-io) (0.2.8)\n",
            "Requirement already satisfied: rsa<5,>=3.1.4 in /usr/local/lib/python3.7/dist-packages (from google-auth<2,>=1.6.3->tensorboard~=2.6->tensorflow<2.7.0,>=2.6.0->tensorflow-io) (4.7.2)\n",
            "Requirement already satisfied: requests-oauthlib>=0.7.0 in /usr/local/lib/python3.7/dist-packages (from google-auth-oauthlib<0.5,>=0.4.1->tensorboard~=2.6->tensorflow<2.7.0,>=2.6.0->tensorflow-io) (1.3.0)\n",
            "Requirement already satisfied: importlib-metadata in /usr/local/lib/python3.7/dist-packages (from markdown>=2.6.8->tensorboard~=2.6->tensorflow<2.7.0,>=2.6.0->tensorflow-io) (4.8.1)\n",
            "Requirement already satisfied: pyasn1<0.5.0,>=0.4.6 in /usr/local/lib/python3.7/dist-packages (from pyasn1-modules>=0.2.1->google-auth<2,>=1.6.3->tensorboard~=2.6->tensorflow<2.7.0,>=2.6.0->tensorflow-io) (0.4.8)\n",
            "Requirement already satisfied: urllib3!=1.25.0,!=1.25.1,<1.26,>=1.21.1 in /usr/local/lib/python3.7/dist-packages (from requests<3,>=2.21.0->tensorboard~=2.6->tensorflow<2.7.0,>=2.6.0->tensorflow-io) (1.24.3)\n",
            "Requirement already satisfied: certifi>=2017.4.17 in /usr/local/lib/python3.7/dist-packages (from requests<3,>=2.21.0->tensorboard~=2.6->tensorflow<2.7.0,>=2.6.0->tensorflow-io) (2021.5.30)\n",
            "Requirement already satisfied: chardet<4,>=3.0.2 in /usr/local/lib/python3.7/dist-packages (from requests<3,>=2.21.0->tensorboard~=2.6->tensorflow<2.7.0,>=2.6.0->tensorflow-io) (3.0.4)\n",
            "Requirement already satisfied: idna<3,>=2.5 in /usr/local/lib/python3.7/dist-packages (from requests<3,>=2.21.0->tensorboard~=2.6->tensorflow<2.7.0,>=2.6.0->tensorflow-io) (2.10)\n",
            "Requirement already satisfied: oauthlib>=3.0.0 in /usr/local/lib/python3.7/dist-packages (from requests-oauthlib>=0.7.0->google-auth-oauthlib<0.5,>=0.4.1->tensorboard~=2.6->tensorflow<2.7.0,>=2.6.0->tensorflow-io) (3.1.1)\n",
            "Requirement already satisfied: zipp>=0.5 in /usr/local/lib/python3.7/dist-packages (from importlib-metadata->markdown>=2.6.8->tensorboard~=2.6->tensorflow<2.7.0,>=2.6.0->tensorflow-io) (3.6.0)\n"
          ]
        }
      ]
    },
    {
      "cell_type": "code",
      "metadata": {
        "id": "gFGJ7Jo9Vgh1"
      },
      "source": [
        "import tensorflow_io as tfio"
      ],
      "execution_count": 27,
      "outputs": []
    },
    {
      "cell_type": "code",
      "metadata": {
        "colab": {
          "base_uri": "https://localhost:8080/"
        },
        "id": "A6Q_hrbUxmWv",
        "outputId": "ae36f18e-694c-4fc0-ed42-bedcb4e6f87c"
      },
      "source": [
        "from google.colab import drive\n",
        "drive.mount('/content/drive')"
      ],
      "execution_count": 28,
      "outputs": [
        {
          "output_type": "stream",
          "name": "stdout",
          "text": [
            "Drive already mounted at /content/drive; to attempt to forcibly remount, call drive.mount(\"/content/drive\", force_remount=True).\n"
          ]
        }
      ]
    },
    {
      "cell_type": "code",
      "metadata": {
        "id": "y7n6l_qZxQSk"
      },
      "source": [
        "import h5py\n"
      ],
      "execution_count": 29,
      "outputs": []
    },
    {
      "cell_type": "code",
      "metadata": {
        "id": "1M-DmWXqw6VV",
        "colab": {
          "base_uri": "https://localhost:8080/"
        },
        "outputId": "d4b03d9d-08ad-470f-fa8f-3e6bdaa367c7"
      },
      "source": [
        "with h5py.File('/content/drive/MyDrive/newresults/training.hdf5', 'r') as hf:\n",
        "    ls = list(hf.keys())\n",
        "    print('list of dataset in this file: \\n',ls)\n",
        "    img_data_tr = hf.get('imgg_train')\n",
        "    img_data1_tr = np.array(img_data_tr)\n",
        "    print(img_data1_tr.shape)\n",
        "    ques_data_tr = hf.get('quess_train')\n",
        "    ques_data1_tr = np.array(ques_data_tr)\n",
        "    print(ques_data1_tr.shape)\n",
        "    anss_data_tr = hf.get('anss_train')\n",
        "    anss_data1_tr = np.array(anss_data_tr)\n",
        "    print(anss_data1_tr.shape)"
      ],
      "execution_count": 30,
      "outputs": [
        {
          "output_type": "stream",
          "name": "stdout",
          "text": [
            "list of dataset in this file: \n",
            " ['anss_train', 'imgg_train', 'quess_train']\n",
            "(172,)\n",
            "(172, 19)\n",
            "(172, 79)\n"
          ]
        }
      ]
    },
    {
      "cell_type": "code",
      "metadata": {
        "id": "yGq-JXVzVdxz",
        "colab": {
          "base_uri": "https://localhost:8080/"
        },
        "outputId": "cf994374-f574-453c-f6af-329939326b2f"
      },
      "source": [
        "with h5py.File('/content/drive/MyDrive/newresults/validation.hdf5', 'r') as hf:\n",
        "    ls = list(hf.keys())\n",
        "    print('list of dataset in this file: \\n',ls)\n",
        "    img_data_val = hf.get('imgg_val')\n",
        "    img_data1_val = np.array(img_data_val)\n",
        "    print(img_data1_val.shape)\n",
        "    ques_data_val = hf.get('quess_val')\n",
        "    ques_data1_val = np.array(ques_data_val)\n",
        "    print(ques_data1_val.shape)\n",
        "    anss_data_val = hf.get('anss_val')\n",
        "    anss_data1_val = np.array(anss_data_val)\n",
        "    print(anss_data1_val.shape)"
      ],
      "execution_count": 31,
      "outputs": [
        {
          "output_type": "stream",
          "name": "stdout",
          "text": [
            "list of dataset in this file: \n",
            " ['anss_val', 'imgg_val', 'quess_val']\n",
            "(44,)\n",
            "(44, 19)\n",
            "(44, 79)\n"
          ]
        }
      ]
    },
    {
      "cell_type": "code",
      "metadata": {
        "id": "_88hkW4_H6XX",
        "colab": {
          "base_uri": "https://localhost:8080/"
        },
        "outputId": "92e61284-241a-4f50-92f2-2b5b79cf539f"
      },
      "source": [
        "datrain_tens = tf.data.Dataset.from_tensor_slices((img_data1_tr,ques_data1_tr,anss_data1_tr))\n",
        "daval_tens = tf.data.Dataset.from_tensor_slices((img_data1_val,ques_data1_val,anss_data1_val))\n",
        "print(type(datrain_img))\n"
      ],
      "execution_count": 32,
      "outputs": [
        {
          "output_type": "stream",
          "name": "stdout",
          "text": [
            "<class 'tensorflow.python.data.ops.dataset_ops.TensorSliceDataset'>\n"
          ]
        }
      ]
    },
    {
      "cell_type": "code",
      "metadata": {
        "id": "IFoFW-c7avDw"
      },
      "source": [
        "def createDataset2(image_paths,question_vector,answer_vector):\n",
        "    dataset_input = tf.data.Dataset.from_tensor_slices((image_paths, question_vector.astype(np.float32)))\n",
        "    dataset_output = tf.data.Dataset.from_tensor_slices((answer_vector.astype(np.float32)))\n",
        "    # using map to load the numpy files in parallel\n",
        "    dataset_input = dataset_input.map(lambda img, ques : tf.numpy_function(get_imageTensor, [img, ques], [tf.float32, tf.float32]),\n",
        "                                      num_parallel_calls=tf.data.experimental.AUTOTUNE)\n",
        "\n",
        "    # shuffling and batching\n",
        "    #dataset_input = dataset_input.shuffle(BUFFER_SIZE).batch(BATCH_SIZE)\n",
        "    dataset_input = dataset_input.batch(BATCH_SIZE)\n",
        "    dataset_output = dataset_output.batch(BATCH_SIZE)#.repeat()\n",
        "    \n",
        "    dataset = tf.data.Dataset.zip((dataset_input, dataset_output))\n",
        "    dataset = dataset.prefetch(buffer_size = tf.data.experimental.AUTOTUNE)\n",
        "\n",
        "    return dataset"
      ],
      "execution_count": 33,
      "outputs": []
    },
    {
      "cell_type": "code",
      "metadata": {
        "id": "3VSxrTdOziJS"
      },
      "source": [
        "def get_imageTensor(img, ques):\n",
        "    path = img.decode('utf-8').replace(imageDirectory,'/content/drive/MyDrive/newresults/data'+'/'+'train2014_Numpy').replace('.jpg',\"\") +'.npy'\n",
        "    \n",
        "    img_tensor = np.load(path)\n",
        "    #img_tensor = all_image_dict[img.decode('utf-8')]\n",
        "    \n",
        "    return img_tensor, ques"
      ],
      "execution_count": 34,
      "outputs": []
    },
    {
      "cell_type": "code",
      "metadata": {
        "id": "cgK2tkbEzuTw"
      },
      "source": [
        "BATCH_SIZE = 2"
      ],
      "execution_count": 35,
      "outputs": []
    },
    {
      "cell_type": "code",
      "metadata": {
        "id": "bqW1rlIDyroV"
      },
      "source": [
        "data_set_train = createDataset2(img_data1_tr,ques_data1_tr,anss_data1_tr)\n",
        "data_set_val = createDataset2(img_data1_val,ques_data1_val,anss_data1_val)\n",
        "\n",
        "#print(datrain)"
      ],
      "execution_count": 36,
      "outputs": []
    },
    {
      "cell_type": "code",
      "metadata": {
        "id": "n3Vz3odZKS4F"
      },
      "source": [
        "import os\n",
        "currentDirectory = \"/content/drive/MyDrive/newresults/\"\n",
        "os.chdir(currentDirectory)\n",
        "currentDirectory = \"\"\n",
        "dataDirectory = currentDirectory + \"data/\"\n",
        "#imageDirectory = dataDirectory + \"train2014/\"\n",
        "imageDirectory = '/content/train2014/'\n",
        "imageNumpyDirectory = dataDirectory + \"train2014_Numpy\" + ''\n",
        "\n",
        "modelsDirectory = currentDirectory + \"Models/\"\n",
        "\n",
        "\n",
        "img_width = 224\n",
        "img_height = 224\n",
        "\n",
        "#BATCH_SIZE = 64\n",
        "#BATCH_SIZE = 10\n",
        "BUFFER_SIZE = 300"
      ],
      "execution_count": 37,
      "outputs": []
    },
    {
      "cell_type": "code",
      "metadata": {
        "id": "jbnqcvHwKe7U"
      },
      "source": [
        "def callBacksList():\n",
        "    \"\"\"\n",
        "    returns list of callback's\n",
        "    \"\"\"\n",
        "    filepath = modelsDirectory + ModelName + \"/best.hdf5\"\n",
        "    checkpoint = tf.keras.callbacks.ModelCheckpoint(filepath = filepath, monitor = 'val_accuracy', verbose = 1, save_best_only = True, mode = 'auto')\n",
        "    reduce_lr = tf.keras.callbacks.ReduceLROnPlateau(monitor = 'val_accuracy', patience = 3)\n",
        "    early_stop = tf.keras.callbacks.EarlyStopping(monitor = 'val_accuracy', patience = 4, verbose = 1)\n",
        "\n",
        "    #directory for tensorboard to save evnts\n",
        "    log_dir= modelsDirectory + \"logs/fit/\" + ModelName + \"/\" + datetime.datetime.now().strftime(\"%Y%m%d-%H%M%S\")\n",
        "    os.makedirs(log_dir)\n",
        "\n",
        "    print(\"TensorBoard Folder for this Execution\",log_dir)#creating TensorBoard call back,this will write all events to given folder\n",
        "    tensorboard_callback = tf.keras.callbacks.TensorBoard(log_dir = log_dir, histogram_freq = 1)\n",
        "\n",
        "    history = tf.keras.callbacks.History()\n",
        "    callbacks_list = [reduce_lr, early_stop, history, tensorboard_callback, checkpoint]\n",
        "    return callbacks_list\n",
        "\n",
        "def Build_BaseModel():\n",
        "    image_input = tf.keras.layers.Input(shape=(7,7,512))\n",
        "    question_input = tf.keras.layers.Input(shape=(opques.shape[1],))\n",
        "\n",
        "    image_conv_layer1 = tf.keras.layers.Conv2D(filters = 4096, kernel_size = 7 , strides = 1, padding = \"valid\", activation = 'relu',\n",
        "                                               kernel_initializer = tf.keras.initializers.he_normal(seed=45))(image_input)\n",
        "\n",
        "    image_flatten = tf.keras.layers.Flatten()(image_conv_layer1)\n",
        "\n",
        "    image_dense_1 = tf.keras.layers.Dense(4096, activation = tf.nn.relu, \n",
        "                                          kernel_initializer = tf.keras.initializers.he_uniform(seed=54))(image_flatten)\n",
        "    \n",
        "    image_dense_2 = tf.keras.layers.Dense(1024, activation = tf.nn.relu, \n",
        "                                          kernel_initializer = tf.keras.initializers.he_uniform(seed=32))(image_dense_1)\n",
        "\n",
        "\n",
        "    # Input 2 Pathway\n",
        "    question_emb = tf.keras.layers.Embedding(input_dim = len(tokenizer.word_index) + 1, output_dim = 300 ,name = \"Embedding_Layer\",\n",
        "                                             embeddings_initializer = tf.keras.initializers.RandomNormal(mean=0, stddev=1, seed=23))(question_input)\n",
        "\n",
        "    question_lstm = tf.keras.layers.LSTM(1024, \n",
        "                                         kernel_initializer = tf.keras.initializers.glorot_uniform(seed=26),\n",
        "                                         recurrent_initializer = tf.keras.initializers.orthogonal(seed=54),\n",
        "                                         bias_initializer=tf.keras.initializers.zeros())(question_emb)\n",
        "\n",
        "    question_flatten = tf.keras.layers.Flatten(name=\"Flatten_lstm\")(question_lstm)\n",
        "\n",
        "    \n",
        "    image_question = tf.keras.layers.Multiply()([image_dense_2, question_flatten])\n",
        "\n",
        "\n",
        "    image_question_dense_1 = tf.keras.layers.Dense(1000, activation = tf.nn.relu,\n",
        "                                                    kernel_initializer = tf.keras.initializers.he_uniform(seed=19))(image_question)\n",
        "    \n",
        "    image_question_dense_2 = tf.keras.layers.Dense(1000, activation = tf.nn.relu, \n",
        "                                                   kernel_initializer = tf.keras.initializers.he_uniform(seed=28))(image_question_dense_1)\n",
        "\n",
        "    output = tf.keras.layers.Dense(len(ans_vocab), activation=tf.nn.softmax, \n",
        "                                   kernel_initializer = tf.keras.initializers.glorot_normal(seed=15))(image_question_dense_2)\n",
        "\n",
        "    # Create Model\n",
        "    model = tf.keras.models.Model(inputs = [image_input, question_input], outputs = output)\n",
        "    # Compile\n",
        "    model.compile(optimizer = 'adam', loss = 'categorical_crossentropy', metrics = ['accuracy'])\n",
        "    return model"
      ],
      "execution_count": 38,
      "outputs": []
    },
    {
      "cell_type": "code",
      "metadata": {
        "id": "CREDjwyA1gtG",
        "colab": {
          "base_uri": "https://localhost:8080/"
        },
        "outputId": "ce191fa1-5479-4791-dbbe-0abd4d8718b3"
      },
      "source": [
        "new_model = tf.keras.models.load_model('/content/drive/MyDrive/newresults/my_vqa_model')\n",
        "\n",
        "# Check its architecture\n",
        "new_model.summary()"
      ],
      "execution_count": 39,
      "outputs": [
        {
          "output_type": "stream",
          "name": "stdout",
          "text": [
            "Model: \"model_1\"\n",
            "__________________________________________________________________________________________________\n",
            "Layer (type)                    Output Shape         Param #     Connected to                     \n",
            "==================================================================================================\n",
            "input_2 (InputLayer)            [(None, 7, 7, 512)]  0                                            \n",
            "__________________________________________________________________________________________________\n",
            "conv2d (Conv2D)                 (None, 1, 1, 4096)   102764544   input_2[0][0]                    \n",
            "__________________________________________________________________________________________________\n",
            "input_3 (InputLayer)            [(None, 19)]         0                                            \n",
            "__________________________________________________________________________________________________\n",
            "flatten (Flatten)               (None, 4096)         0           conv2d[0][0]                     \n",
            "__________________________________________________________________________________________________\n",
            "Embedding_Layer (Embedding)     (None, 19, 300)      103800      input_3[0][0]                    \n",
            "__________________________________________________________________________________________________\n",
            "dense (Dense)                   (None, 4096)         16781312    flatten[0][0]                    \n",
            "__________________________________________________________________________________________________\n",
            "lstm (LSTM)                     (None, 1024)         5427200     Embedding_Layer[0][0]            \n",
            "__________________________________________________________________________________________________\n",
            "dense_1 (Dense)                 (None, 1024)         4195328     dense[0][0]                      \n",
            "__________________________________________________________________________________________________\n",
            "Flatten_lstm (Flatten)          (None, 1024)         0           lstm[0][0]                       \n",
            "__________________________________________________________________________________________________\n",
            "multiply (Multiply)             (None, 1024)         0           dense_1[0][0]                    \n",
            "                                                                 Flatten_lstm[0][0]               \n",
            "__________________________________________________________________________________________________\n",
            "dense_2 (Dense)                 (None, 1000)         1025000     multiply[0][0]                   \n",
            "__________________________________________________________________________________________________\n",
            "dense_3 (Dense)                 (None, 1000)         1001000     dense_2[0][0]                    \n",
            "__________________________________________________________________________________________________\n",
            "dense_4 (Dense)                 (None, 79)           79079       dense_3[0][0]                    \n",
            "==================================================================================================\n",
            "Total params: 131,377,263\n",
            "Trainable params: 131,377,263\n",
            "Non-trainable params: 0\n",
            "__________________________________________________________________________________________________\n"
          ]
        }
      ]
    },
    {
      "cell_type": "code",
      "metadata": {
        "id": "dmW9eezF1_VH",
        "colab": {
          "base_uri": "https://localhost:8080/"
        },
        "outputId": "13146d57-8477-4ef5-e7bd-5bad474c9997"
      },
      "source": [
        "!ls /content/drive/MyDrive/newresults/my_vqa_model"
      ],
      "execution_count": 40,
      "outputs": [
        {
          "output_type": "stream",
          "name": "stdout",
          "text": [
            "assets\tkeras_metadata.pb  saved_model.pb  variables\n"
          ]
        }
      ]
    },
    {
      "cell_type": "code",
      "metadata": {
        "id": "wMamuCSz_319"
      },
      "source": [
        "import glob"
      ],
      "execution_count": 41,
      "outputs": []
    },
    {
      "cell_type": "code",
      "metadata": {
        "id": "IBjIVhAkNzLL",
        "colab": {
          "base_uri": "https://localhost:8080/"
        },
        "outputId": "8c389c47-f3e5-4cc5-d0ac-12aeeba92c71"
      },
      "source": [
        "import datetime\n",
        "new_model.fit(data_set_train, epochs = 20, validation_data = data_set_val)\n",
        "#new_model.fit(datrain, epochs = 20)"
      ],
      "execution_count": 43,
      "outputs": [
        {
          "output_type": "stream",
          "name": "stdout",
          "text": [
            "Epoch 1/20\n",
            "86/86 [==============================] - 60s 293ms/step - loss: 5.2400 - accuracy: 0.1628 - val_loss: 2.6149 - val_accuracy: 0.1818\n",
            "Epoch 2/20\n",
            "86/86 [==============================] - 23s 266ms/step - loss: 3.8560 - accuracy: 0.1628 - val_loss: 2.4521 - val_accuracy: 0.1818\n",
            "Epoch 3/20\n",
            "86/86 [==============================] - 23s 268ms/step - loss: 3.6155 - accuracy: 0.1686 - val_loss: 2.4935 - val_accuracy: 0.1818\n",
            "Epoch 4/20\n",
            "86/86 [==============================] - 23s 268ms/step - loss: 3.5994 - accuracy: 0.1802 - val_loss: 2.3967 - val_accuracy: 0.1591\n",
            "Epoch 5/20\n",
            "86/86 [==============================] - 23s 268ms/step - loss: 3.4552 - accuracy: 0.1802 - val_loss: 2.1134 - val_accuracy: 0.1818\n",
            "Epoch 6/20\n",
            "86/86 [==============================] - 23s 266ms/step - loss: 3.2977 - accuracy: 0.2209 - val_loss: 2.0843 - val_accuracy: 0.1818\n",
            "Epoch 7/20\n",
            "86/86 [==============================] - 23s 268ms/step - loss: 3.2752 - accuracy: 0.2093 - val_loss: 1.9375 - val_accuracy: 0.1818\n",
            "Epoch 8/20\n",
            "86/86 [==============================] - 23s 270ms/step - loss: 3.4088 - accuracy: 0.1977 - val_loss: 2.1102 - val_accuracy: 0.1591\n",
            "Epoch 9/20\n",
            "86/86 [==============================] - 23s 268ms/step - loss: 3.0807 - accuracy: 0.1919 - val_loss: 2.1883 - val_accuracy: 0.1818\n",
            "Epoch 10/20\n",
            "86/86 [==============================] - 23s 268ms/step - loss: 2.8957 - accuracy: 0.1919 - val_loss: 2.7642 - val_accuracy: 0.0682\n",
            "Epoch 11/20\n",
            "86/86 [==============================] - 23s 268ms/step - loss: 2.9958 - accuracy: 0.2442 - val_loss: 2.4273 - val_accuracy: 0.0227\n",
            "Epoch 12/20\n",
            "86/86 [==============================] - 23s 269ms/step - loss: 2.9389 - accuracy: 0.2267 - val_loss: 2.0915 - val_accuracy: 0.1591\n",
            "Epoch 13/20\n",
            "86/86 [==============================] - 23s 269ms/step - loss: 2.9340 - accuracy: 0.2326 - val_loss: 2.4397 - val_accuracy: 0.0000e+00\n",
            "Epoch 14/20\n",
            "86/86 [==============================] - 23s 267ms/step - loss: 2.8485 - accuracy: 0.2616 - val_loss: 2.1574 - val_accuracy: 0.1591\n",
            "Epoch 15/20\n",
            "86/86 [==============================] - 23s 267ms/step - loss: 3.1040 - accuracy: 0.2616 - val_loss: 2.4087 - val_accuracy: 0.0227\n",
            "Epoch 16/20\n",
            "86/86 [==============================] - 23s 269ms/step - loss: 2.9725 - accuracy: 0.2907 - val_loss: 1.9191 - val_accuracy: 0.1136\n",
            "Epoch 17/20\n",
            "86/86 [==============================] - 23s 267ms/step - loss: 2.9346 - accuracy: 0.2616 - val_loss: 2.1948 - val_accuracy: 0.0455\n",
            "Epoch 18/20\n",
            "86/86 [==============================] - 23s 267ms/step - loss: 2.8579 - accuracy: 0.2907 - val_loss: 2.0834 - val_accuracy: 0.1136\n",
            "Epoch 19/20\n",
            "86/86 [==============================] - 23s 267ms/step - loss: 2.8523 - accuracy: 0.2965 - val_loss: 2.3664 - val_accuracy: 0.1591\n",
            "Epoch 20/20\n",
            "86/86 [==============================] - 23s 269ms/step - loss: 3.1326 - accuracy: 0.2558 - val_loss: 2.6388 - val_accuracy: 0.1364\n"
          ]
        },
        {
          "output_type": "execute_result",
          "data": {
            "text/plain": [
              "<keras.callbacks.History at 0x7f96b0803c50>"
            ]
          },
          "metadata": {},
          "execution_count": 43
        }
      ]
    },
    {
      "cell_type": "code",
      "metadata": {
        "id": "IzMl0M7A9XfJ",
        "colab": {
          "base_uri": "https://localhost:8080/"
        },
        "outputId": "ce702095-7773-4869-eeb1-0247d9e814d7"
      },
      "source": [
        "new_model.save('/content/drive/MyDrive/newresults/Models')"
      ],
      "execution_count": 44,
      "outputs": [
        {
          "output_type": "stream",
          "name": "stderr",
          "text": [
            "WARNING:absl:Found untraced functions such as lstm_cell_layer_call_fn, lstm_cell_layer_call_and_return_conditional_losses, lstm_cell_layer_call_fn, lstm_cell_layer_call_and_return_conditional_losses, lstm_cell_layer_call_and_return_conditional_losses while saving (showing 5 of 5). These functions will not be directly callable after loading.\n"
          ]
        },
        {
          "output_type": "stream",
          "name": "stdout",
          "text": [
            "INFO:tensorflow:Assets written to: /content/drive/MyDrive/newresults/Models/assets\n"
          ]
        },
        {
          "output_type": "stream",
          "name": "stderr",
          "text": [
            "INFO:tensorflow:Assets written to: /content/drive/MyDrive/newresults/Models/assets\n",
            "/usr/local/lib/python3.7/dist-packages/keras/utils/generic_utils.py:497: CustomMaskWarning: Custom mask layers require a config and must override get_config. When loading, the custom mask layer must be passed to the custom_objects argument.\n",
            "  category=CustomMaskWarning)\n"
          ]
        }
      ]
    },
    {
      "cell_type": "code",
      "metadata": {
        "id": "KtloHxJ-D8Zd"
      },
      "source": [
        "#model.load_weights(modelsDirectory + ModelName + \"/best.hdf5\")\n",
        "test_idx = np.random.randint(len(X_val), size = 3)\n",
        "model_vgg = VGG19_Top()\n",
        "k = 5\n",
        "\n",
        "for idx in test_idx:\n",
        "    test_image_id = X_val['image_id'].values[idx]\n",
        "    test_question = X_val['question'].values[idx]\n",
        "    actual_answer = X_val['multiple_choice_answer'].values[idx]\n",
        "    test_image_path = imageDirectory + 'COCO_train2014_' + '%012d.jpg' % (test_image_id)\n",
        "\n",
        "    test_image_features = model_vgg(tf.expand_dims(load_image(test_image_path)[0], 0))\n",
        "    test_question_features = tf.keras.preprocessing.sequence.pad_sequences(tokenizer.texts_to_sequences([test_question]),padding='post',\n",
        "                                                                           maxlen=question_vector_train.shape[1])\n",
        "    y_pred = model.predict([test_image_features,test_question_features])\n",
        "\n",
        "    class_indices = tf.math.top_k(y_pred,k=k).indices.numpy()\n",
        "    percentages = tf.math.top_k(y_pred,k=k).values.numpy()[0] * 100\n",
        "    predictions = []\n",
        "    for idx,i in enumerate(class_indices[0]):\n",
        "        classes = np.zeros((1,1000))\n",
        "        classes[0][i] = 1\n",
        "        predictions.append((label_encoder.inverse_transform(classes)[0],percentages[idx]))\n",
        "\n",
        "    img=mpimg.imread(test_image_path)\n",
        "    imgplot = plt.imshow(img)\n",
        "    plt.axis('off')\n",
        "    plt.show()\n",
        "\n",
        "    print(\"Question :\", test_question.replace(\"<start> \",\"\").replace(\" <end>\",\"\"))\n",
        "    print(\"Actual Answer: \", actual_answer)\n",
        "    print(\"Top Predicted answers: \",predictions)\n",
        "    print(\"*\"*150)"
      ],
      "execution_count": null,
      "outputs": []
    }
  ]
}